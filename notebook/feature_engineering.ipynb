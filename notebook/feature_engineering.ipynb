{
 "cells": [
  {
   "cell_type": "code",
   "execution_count": 64,
   "id": "5430adab",
   "metadata": {},
   "outputs": [],
   "source": [
    "# ===============================================\n",
    "# Enhanced Diabetes Analysis & Modeling Pipeline\n",
    "# ===============================================\n",
    "\n",
    "import pandas as pd\n",
    "import numpy as np\n",
    "import seaborn as sns\n",
    "import matplotlib.pyplot as plt\n",
    "from sklearn.preprocessing import StandardScaler, PolynomialFeatures\n",
    "from sklearn.impute import SimpleImputer\n",
    "from statsmodels.stats.outliers_influence import variance_inflation_factor\n",
    "from scipy import stats\n",
    "from statsmodels.formula.api import logit\n",
    "from sklearn.model_selection import train_test_split, cross_val_score\n",
    "from sklearn.linear_model import LogisticRegression\n",
    "from sklearn.ensemble import RandomForestClassifier\n",
    "from xgboost import XGBClassifier\n",
    "from sklearn.metrics import accuracy_score, f1_score, roc_auc_score, classification_report"
   ]
  },
  {
   "cell_type": "code",
   "execution_count": 65,
   "id": "a34e3f89",
   "metadata": {},
   "outputs": [],
   "source": [
    "# -------- 1. Load dataset --------\n",
    "df = pd.read_csv(r\"C:\\Users\\asd\\Desktop\\Diabetes-Prediction\\data\\processed\\cleaned.csv\")"
   ]
  },
  {
   "cell_type": "code",
   "execution_count": 66,
   "id": "8a17a2fb",
   "metadata": {},
   "outputs": [],
   "source": [
    "# -------- 2. Remove low variance columns --------\n",
    "low_variance_cols = df.columns[df.var() < 1e-3]\n",
    "df.drop(columns=low_variance_cols, inplace=True)\n"
   ]
  },
  {
   "cell_type": "code",
   "execution_count": 67,
   "id": "ef237304",
   "metadata": {},
   "outputs": [
    {
     "name": "stderr",
     "output_type": "stream",
     "text": [
      "C:\\Users\\asd\\AppData\\Local\\Temp\\ipykernel_4200\\2653786805.py:7: FutureWarning: A value is trying to be set on a copy of a DataFrame or Series through chained assignment using an inplace method.\n",
      "The behavior will change in pandas 3.0. This inplace method will never work because the intermediate object on which we are setting values always behaves as a copy.\n",
      "\n",
      "For example, when doing 'df[col].method(value, inplace=True)', try using 'df.method({col: value}, inplace=True)' or df[col] = df[col].method(value) instead, to perform the operation inplace on the original object.\n",
      "\n",
      "\n",
      "  df[col].replace(val, np.nan, inplace=True)\n"
     ]
    }
   ],
   "source": [
    "# -------- 3. Replace placeholders with NaN --------\n",
    "placeholders = {\n",
    "    'SkinThickness': 29.153419593345657,\n",
    "    'Insulin': 155.5482233502538\n",
    "}\n",
    "for col, val in placeholders.items():\n",
    "    df[col].replace(val, np.nan, inplace=True)\n"
   ]
  },
  {
   "cell_type": "code",
   "execution_count": 68,
   "id": "27b5482c",
   "metadata": {},
   "outputs": [],
   "source": [
    "# -------- 4. Impute missing values --------\n",
    "imputer = SimpleImputer(strategy='median')\n",
    "df[df.columns] = imputer.fit_transform(df)\n"
   ]
  },
  {
   "cell_type": "code",
   "execution_count": 69,
   "id": "03cc8164",
   "metadata": {},
   "outputs": [],
   "source": [
    "# -------- 5. Domain-specific binary flags --------\n",
    "df['High_BMI'] = (df['BMI'] >= 30).astype(int)\n",
    "df['High_Glucose'] = (df['Glucose'] >= 126).astype(int)\n",
    "df['Senior_Age'] = (df['Age'] >= 50).astype(int)\n",
    "df['High_BP'] = (df['BloodPressure'] >= 80).astype(int)\n"
   ]
  },
  {
   "cell_type": "code",
   "execution_count": 70,
   "id": "f83c70e2",
   "metadata": {},
   "outputs": [],
   "source": [
    "# -------- 6. Polynomial & Interaction features --------\n",
    "poly = PolynomialFeatures(degree=2, include_bias=False)\n",
    "poly_feats = poly.fit_transform(df[['Glucose', 'BMI', 'Age', 'Pregnancies']])\n",
    "poly_cols = poly.get_feature_names_out(['Glucose', 'BMI', 'Age', 'Pregnancies'])\n",
    "poly_df = pd.DataFrame(poly_feats, columns=poly_cols)\n",
    "df = pd.concat([df, poly_df.iloc[:, 4:]], axis=1)  # skip original features\n"
   ]
  },
  {
   "cell_type": "code",
   "execution_count": 71,
   "id": "900a1e42",
   "metadata": {},
   "outputs": [],
   "source": [
    "# -------- 7. Log-transform skewed features --------\n",
    "for col in ['Insulin', 'DiabetesPedigreeFunction']:\n",
    "    df[col] = np.log1p(df[col])\n"
   ]
  },
  {
   "cell_type": "code",
   "execution_count": 72,
   "id": "54da05cf",
   "metadata": {},
   "outputs": [
    {
     "name": "stdout",
     "output_type": "stream",
     "text": [
      "Dropped high VIF features: ['Pregnancies', 'Glucose', 'BloodPressure', 'SkinThickness', 'Insulin', 'BMI', 'Age', 'Glucose^2', 'Glucose BMI', 'Glucose Age', 'Glucose Pregnancies', 'BMI^2', 'BMI Age', 'BMI Pregnancies', 'Age^2', 'Age Pregnancies', 'Pregnancies^2']\n"
     ]
    }
   ],
   "source": [
    "# -------- 8. Remove multicollinearity via VIF --------\n",
    "X_vif = df.drop(columns=['Outcome'])\n",
    "vif_df = pd.DataFrame()\n",
    "vif_df[\"feature\"] = X_vif.columns\n",
    "vif_df[\"VIF\"] = [variance_inflation_factor(X_vif.values, i) for i in range(X_vif.shape[1])]\n",
    "high_vif = vif_df[vif_df[\"VIF\"] > 10][\"feature\"]\n",
    "df.drop(columns=high_vif, inplace=True)\n",
    "print(\"Dropped high VIF features:\", list(high_vif))\n"
   ]
  },
  {
   "cell_type": "code",
   "execution_count": 73,
   "id": "00b653d4",
   "metadata": {},
   "outputs": [],
   "source": [
    "# -------- 9. Scale features --------\n",
    "scaler = StandardScaler()\n",
    "features = df.drop(columns=['Outcome']).columns\n",
    "df[features] = scaler.fit_transform(df[features])\n"
   ]
  },
  {
   "cell_type": "code",
   "execution_count": 74,
   "id": "b991d0a6",
   "metadata": {},
   "outputs": [
    {
     "name": "stdout",
     "output_type": "stream",
     "text": [
      "\n",
      "Descriptive Statistics:\n",
      "        DiabetesPedigreeFunction     Outcome      High_BMI  High_Glucose  \\\n",
      "count              7.680000e+02  768.000000  7.680000e+02  7.680000e+02   \n",
      "mean              -1.202742e-16    0.348958 -3.006854e-17 -8.095376e-18   \n",
      "std                1.000652e+00    0.476951  1.000652e+00  1.000652e+00   \n",
      "min               -1.462897e+00    0.000000 -1.301821e+00 -7.940864e-01   \n",
      "25%               -7.419411e-01    0.000000 -1.301821e+00 -7.940864e-01   \n",
      "50%               -2.454082e-01    0.000000  7.681550e-01 -7.940864e-01   \n",
      "75%                6.097343e-01    1.000000  7.681550e-01  1.259309e+00   \n",
      "max                4.356900e+00    1.000000  7.681550e-01  1.259309e+00   \n",
      "\n",
      "         Senior_Age       High_BP  \n",
      "count  7.680000e+02  7.680000e+02  \n",
      "mean   3.353799e-17  1.063964e-16  \n",
      "std    1.000652e+00  1.000652e+00  \n",
      "min   -3.620430e-01 -6.034242e-01  \n",
      "25%   -3.620430e-01 -6.034242e-01  \n",
      "50%   -3.620430e-01 -6.034242e-01  \n",
      "75%   -3.620430e-01  1.657209e+00  \n",
      "max    2.762103e+00  1.657209e+00  \n"
     ]
    }
   ],
   "source": [
    "# -------- 10. Statistical Analysis --------\n",
    "print(\"\\nDescriptive Statistics:\\n\", df.describe())"
   ]
  },
  {
   "cell_type": "code",
   "execution_count": 75,
   "id": "6a03bff2",
   "metadata": {},
   "outputs": [
    {
     "data": {
      "image/png": "[encoded data removed]",
      "text/plain": [
       "<Figure size 1000x800 with 2 Axes>"
      ]
     },
     "metadata": {},
     "output_type": "display_data"
    }
   ],
   "source": [
    "# Correlation heatmap\n",
    "plt.figure(figsize=(10,8))\n",
    "sns.heatmap(df.corr(), annot=False, cmap=\"coolwarm\")\n",
    "plt.title(\"Correlation Heatmap\")\n",
    "plt.show()\n"
   ]
  },
  {
   "cell_type": "code",
   "execution_count": 76,
   "id": "4c4ca0f2",
   "metadata": {},
   "outputs": [
    {
     "name": "stdout",
     "output_type": "stream",
     "text": [
      "                    Feature       p-value\n",
      "0  DiabetesPedigreeFunction  5.171702e-07\n",
      "1                  High_BMI  4.613907e-17\n",
      "2              High_Glucose  8.013517e-32\n",
      "3                Senior_Age  4.692755e-03\n",
      "4                   High_BP  1.550399e-03\n"
     ]
    }
   ],
   "source": [
    "# t-test comparison between groups\n",
    "out0, out1 = df[df['Outcome']==0], df[df['Outcome']==1]\n",
    "comparison_results = []\n",
    "for col in features:\n",
    "    test = stats.ttest_ind(out0[col], out1[col])\n",
    "    comparison_results.append((col, test.pvalue))\n",
    "comparison_df = pd.DataFrame(comparison_results, columns=['Feature', 'p-value'])\n",
    "# comparison_df.to_csv(\"group_comparison.csv\", index=False)\n",
    "print(comparison_df)\n"
   ]
  },
  {
   "cell_type": "code",
   "execution_count": 77,
   "id": "642ed075",
   "metadata": {},
   "outputs": [
    {
     "name": "stdout",
     "output_type": "stream",
     "text": [
      "Logistic Regression ROC-AUC: 0.7806009783368275\n",
      "Random Forest ROC-AUC: 0.708996855345912\n"
     ]
    },
    {
     "name": "stderr",
     "output_type": "stream",
     "text": [
      "c:\\Users\\asd\\Desktop\\Diabetes-Prediction\\denv\\Lib\\site-packages\\xgboost\\training.py:183: UserWarning: [01:04:41] WARNING: C:\\actions-runner\\_work\\xgboost\\xgboost\\src\\learner.cc:738: \n",
      "Parameters: { \"use_label_encoder\" } are not used.\n",
      "\n",
      "  bst.update(dtrain, iteration=i, fobj=obj)\n",
      "c:\\Users\\asd\\Desktop\\Diabetes-Prediction\\denv\\Lib\\site-packages\\xgboost\\training.py:183: UserWarning: [01:04:42] WARNING: C:\\actions-runner\\_work\\xgboost\\xgboost\\src\\learner.cc:738: \n",
      "Parameters: { \"use_label_encoder\" } are not used.\n",
      "\n",
      "  bst.update(dtrain, iteration=i, fobj=obj)\n",
      "c:\\Users\\asd\\Desktop\\Diabetes-Prediction\\denv\\Lib\\site-packages\\xgboost\\training.py:183: UserWarning: [01:04:42] WARNING: C:\\actions-runner\\_work\\xgboost\\xgboost\\src\\learner.cc:738: \n",
      "Parameters: { \"use_label_encoder\" } are not used.\n",
      "\n",
      "  bst.update(dtrain, iteration=i, fobj=obj)\n",
      "c:\\Users\\asd\\Desktop\\Diabetes-Prediction\\denv\\Lib\\site-packages\\xgboost\\training.py:183: UserWarning: [01:04:42] WARNING: C:\\actions-runner\\_work\\xgboost\\xgboost\\src\\learner.cc:738: \n",
      "Parameters: { \"use_label_encoder\" } are not used.\n",
      "\n",
      "  bst.update(dtrain, iteration=i, fobj=obj)\n",
      "c:\\Users\\asd\\Desktop\\Diabetes-Prediction\\denv\\Lib\\site-packages\\xgboost\\training.py:183: UserWarning: [01:04:42] WARNING: C:\\actions-runner\\_work\\xgboost\\xgboost\\src\\learner.cc:738: \n",
      "Parameters: { \"use_label_encoder\" } are not used.\n",
      "\n",
      "  bst.update(dtrain, iteration=i, fobj=obj)\n"
     ]
    },
    {
     "name": "stdout",
     "output_type": "stream",
     "text": [
      "XGBoost ROC-AUC: 0.7223036338225018\n"
     ]
    }
   ],
   "source": [
    "# -------- 11. Modeling --------\n",
    "X = df.drop(columns=['Outcome'])\n",
    "y = df['Outcome']\n",
    "\n",
    "# Logistic Regression (L2)\n",
    "lr = LogisticRegression(max_iter=1000, penalty='l2')\n",
    "lr_scores = cross_val_score(lr, X, y, cv=5, scoring='roc_auc')\n",
    "print(\"Logistic Regression ROC-AUC:\", lr_scores.mean())\n",
    "\n",
    "# Random Forest\n",
    "rf = RandomForestClassifier(n_estimators=200, random_state=42)\n",
    "rf_scores = cross_val_score(rf, X, y, cv=5, scoring='roc_auc')\n",
    "print(\"Random Forest ROC-AUC:\", rf_scores.mean())\n",
    "\n",
    "# XGBoost\n",
    "xgb = XGBClassifier(use_label_encoder=False, eval_metric='logloss')\n",
    "xgb_scores = cross_val_score(xgb, X, y, cv=5, scoring='roc_auc')\n",
    "print(\"XGBoost ROC-AUC:\", xgb_scores.mean())\n"
   ]
  },
  {
   "cell_type": "code",
   "execution_count": 78,
   "id": "ff208ff8",
   "metadata": {},
   "outputs": [
    {
     "data": {
      "image/png": "[encoded data removed]",
      "text/plain": [
       "<Figure size 640x480 with 1 Axes>"
      ]
     },
     "metadata": {},
     "output_type": "display_data"
    }
   ],
   "source": [
    "# # -------- 12. Feature Importance from RandomForest --------\n",
    "rf.fit(X, y)\n",
    "importances = pd.Series(rf.feature_importances_, index=X.columns).sort_values(ascending=False)\n",
    "# importances.to_csv(\"feature_importances.csv\")\n",
    "importances.head(15).plot(kind='barh')\n",
    "plt.title(\"Top Feature Importances (RandomForest)\")\n",
    "plt.show()\n",
    "\n",
    "# print(\"\\nPipeline complete. Results saved: group_comparison.csv, feature_importances.csv\")"
   ]
  }
 ],
 "metadata": {
  "kernelspec": {
   "display_name": "denv",
   "language": "python",
   "name": "python3"
  },
  "language_info": {
   "codemirror_mode": {
    "name": "ipython",
    "version": 3
   },
   "file_extension": ".py",
   "mimetype": "text/x-python",
   "name": "python",
   "nbconvert_exporter": "python",
   "pygments_lexer": "ipython3",
   "version": "3.12.0"
  }
 },
 "nbformat": 4,
 "nbformat_minor": 5
}
